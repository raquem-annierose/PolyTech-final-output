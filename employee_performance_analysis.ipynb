{
 "cells": [
  {
   "cell_type": "markdown",
   "id": "e54baeda",
   "metadata": {},
   "source": [
    "# 📊 Employee Performance Analysis Report\n",
    "- Prepared by: PolyTech [Capilitan, Niones, Raquem, Victorio, Villarta]\n",
    "- Role: Junior Data Analyst  \n",
    "- Objective: To uncover insights in employee performance using real-world HR data.\n",
    "- Date: July 2025\n",
    "\n",
    "This report explores how age, experience, education, and department \n",
    "relate to employee performance.\n",
    "Findings will guide HR in training, hiring, and promotion decisions.\n"
   ]
  },
  {
   "cell_type": "markdown",
   "id": "ba576530",
   "metadata": {},
   "source": [
    "## About Dataset\n",
    "\n",
    "- This dataset provides an overview of employee performance and is tailored for machine learning tasks such as clustering and classification. It contains essential attributes including age, total professional experience, educational attainment, department, and a numerical performance score. A derived target column classifies overall performance into five categories: Poor, Average, Good, Very Good, and Excellent. This dataset is well-suited for evaluating models in clustering, predictive analytics, and performance-based insights.\n",
    "- Column Descriptions:\n",
    "    - age: The employee’s age (ranging from 20 to 60 years).\n",
    "    - years_experience: Total number of years in professional work (1 to 40 years).\n",
    "    - education_level: Highest education achieved (High School, Bachelor, Master, PhD).\n",
    "    - group_department: Department or functional group of the employee (Sales, Tech, HR, Finance).\n",
    "    - performance_score: A numeric score representing the employee’s performance, on a scale from 1 to 10.\n",
    "    - performance_category: A categorical label for performance classification (Poor, Average, Good, Very Good, Excellent)."
   ]
  },
  {
   "cell_type": "markdown",
   "id": "da042641",
   "metadata": {},
   "source": [
    "## Import Libraries"
   ]
  },
  {
   "cell_type": "code",
   "execution_count": 4,
   "id": "255e1e87",
   "metadata": {},
   "outputs": [],
   "source": [
    "import numpy as np\n",
    "import pandas as pd\n",
    "import matplotlib.pyplot as plt"
   ]
  },
  {
   "cell_type": "markdown",
   "id": "469916e3",
   "metadata": {},
   "source": [
    "## Data Loading & Initial Exploration\n"
   ]
  },
  {
   "cell_type": "code",
   "execution_count": 15,
   "id": "e321be34",
   "metadata": {},
   "outputs": [
    {
     "data": {
      "text/html": [
       "<div>\n",
       "<style scoped>\n",
       "    .dataframe tbody tr th:only-of-type {\n",
       "        vertical-align: middle;\n",
       "    }\n",
       "\n",
       "    .dataframe tbody tr th {\n",
       "        vertical-align: top;\n",
       "    }\n",
       "\n",
       "    .dataframe thead th {\n",
       "        text-align: right;\n",
       "    }\n",
       "</style>\n",
       "<table border=\"1\" class=\"dataframe\">\n",
       "  <thead>\n",
       "    <tr style=\"text-align: right;\">\n",
       "      <th></th>\n",
       "      <th>age</th>\n",
       "      <th>years_experience</th>\n",
       "      <th>education_level</th>\n",
       "      <th>group_department</th>\n",
       "      <th>performancescore</th>\n",
       "      <th>performance_category</th>\n",
       "    </tr>\n",
       "  </thead>\n",
       "  <tbody>\n",
       "    <tr>\n",
       "      <th>0</th>\n",
       "      <td>58</td>\n",
       "      <td>23</td>\n",
       "      <td>High School</td>\n",
       "      <td>Finance</td>\n",
       "      <td>10.0</td>\n",
       "      <td>Excellent</td>\n",
       "    </tr>\n",
       "    <tr>\n",
       "      <th>1</th>\n",
       "      <td>48</td>\n",
       "      <td>39</td>\n",
       "      <td>Bchelor</td>\n",
       "      <td>HR</td>\n",
       "      <td>NaN</td>\n",
       "      <td>NaN</td>\n",
       "    </tr>\n",
       "    <tr>\n",
       "      <th>2</th>\n",
       "      <td>34</td>\n",
       "      <td>15</td>\n",
       "      <td>High School</td>\n",
       "      <td>HR</td>\n",
       "      <td>5.0</td>\n",
       "      <td>NaN</td>\n",
       "    </tr>\n",
       "    <tr>\n",
       "      <th>3</th>\n",
       "      <td>27</td>\n",
       "      <td>29</td>\n",
       "      <td>PhD</td>\n",
       "      <td>HR</td>\n",
       "      <td>4.0</td>\n",
       "      <td>Average</td>\n",
       "    </tr>\n",
       "    <tr>\n",
       "      <th>4</th>\n",
       "      <td>40</td>\n",
       "      <td>36</td>\n",
       "      <td>PhD</td>\n",
       "      <td>Finance</td>\n",
       "      <td>2.0</td>\n",
       "      <td>Poor</td>\n",
       "    </tr>\n",
       "  </tbody>\n",
       "</table>\n",
       "</div>"
      ],
      "text/plain": [
       "   age  years_experience education_level group_department  performancescore  \\\n",
       "0   58                23     High School          Finance              10.0   \n",
       "1   48                39         Bchelor               HR               NaN   \n",
       "2   34                15     High School               HR               5.0   \n",
       "3   27                29             PhD               HR               4.0   \n",
       "4   40                36             PhD          Finance               2.0   \n",
       "\n",
       "  performance_category  \n",
       "0            Excellent  \n",
       "1                  NaN  \n",
       "2                  NaN  \n",
       "3              Average  \n",
       "4                 Poor  "
      ]
     },
     "execution_count": 15,
     "metadata": {},
     "output_type": "execute_result"
    }
   ],
   "source": [
    "df = pd.read_csv('employee_performance.csv')\n",
    "df.head()"
   ]
  },
  {
   "cell_type": "markdown",
   "id": "19689ada",
   "metadata": {},
   "source": [
    "## Cleaning Dataset"
   ]
  },
  {
   "cell_type": "code",
   "execution_count": 17,
   "id": "dc4f6fef",
   "metadata": {},
   "outputs": [
    {
     "name": "stdout",
     "output_type": "stream",
     "text": [
      "<class 'pandas.core.frame.DataFrame'>\n",
      "RangeIndex: 791 entries, 0 to 790\n",
      "Data columns (total 6 columns):\n",
      " #   Column                Non-Null Count  Dtype  \n",
      "---  ------                --------------  -----  \n",
      " 0   age                   791 non-null    int64  \n",
      " 1   years_experience      791 non-null    int64  \n",
      " 2   education_level       791 non-null    object \n",
      " 3   group_department      791 non-null    object \n",
      " 4   performancescore      790 non-null    float64\n",
      " 5   performance_category  789 non-null    object \n",
      "dtypes: float64(1), int64(2), object(3)\n",
      "memory usage: 37.2+ KB\n"
     ]
    }
   ],
   "source": [
    "df.info()"
   ]
  },
  {
   "cell_type": "markdown",
   "id": "129d3d08",
   "metadata": {},
   "source": [
    "#### Check Inconsistent Values"
   ]
  },
  {
   "cell_type": "code",
   "execution_count": 18,
   "id": "32b76e39",
   "metadata": {},
   "outputs": [
    {
     "data": {
      "text/plain": [
       "array(['High School', 'Bchelor', 'PhD', \"Master's\", 'Master', 'Hs',\n",
       "       'Bachelor'], dtype=object)"
      ]
     },
     "execution_count": 18,
     "metadata": {},
     "output_type": "execute_result"
    }
   ],
   "source": [
    "df['education_level'].unique()"
   ]
  },
  {
   "cell_type": "code",
   "execution_count": 19,
   "id": "483175ef",
   "metadata": {},
   "outputs": [
    {
     "data": {
      "text/plain": [
       "array(['Finance', 'HR', 'Tech', 'Sales'], dtype=object)"
      ]
     },
     "execution_count": 19,
     "metadata": {},
     "output_type": "execute_result"
    }
   ],
   "source": [
    "df['group_department'].unique()"
   ]
  },
  {
   "cell_type": "markdown",
   "id": "57576567",
   "metadata": {},
   "source": [
    "#### Observed Issues in the Dataset\n",
    "\n",
    "After reviewing the initial dataset structure and unique values, we identified the following issues:\n",
    "\n",
    "---\n",
    "\n",
    "##### 1. Missing Values in Key Columns\n",
    "| Column                | Non-Null Count | Expected | Issue                          |\n",
    "|-----------------------|----------------|----------|--------------------------------|\n",
    "| `performance_score`   | 790            | 791      | 1 missing value                |\n",
    "| `performance_category`| 789            | 791      | 2 missing value                |\n",
    "\n",
    "- These columns are critical for performance analysis and cannot be left null.\n",
    "\n",
    "---\n",
    "\n",
    "##### 2. Inconsistent `education_level` Values\n",
    "\n",
    "| Raw Value   | Issue Description                      |\n",
    "|-------------|----------------------------------------|\n",
    "| `Bchelor`   | Typo of \"Bachelor\"                     |\n",
    "| `\"Master's\"`| Contains apostrophe, non-standard      |\n",
    "| `Hs`        | Abbreviation for \"High School\"         |\n",
    "| Mixed casing| Some entries are not properly capitalized |\n",
    "\n",
    "```python\n",
    "df['education_level'].unique()\n"
   ]
  },
  {
   "cell_type": "markdown",
   "id": "914d58ce",
   "metadata": {},
   "source": [
    "#### Rename Columns"
   ]
  },
  {
   "cell_type": "code",
   "execution_count": 20,
   "id": "862f5876",
   "metadata": {},
   "outputs": [],
   "source": [
    "df.rename(columns={\n",
    "    'group_department': 'department',\n",
    "    'performancescore': 'performance_score'\n",
    "}, inplace=True)"
   ]
  },
  {
   "cell_type": "markdown",
   "id": "8da4669c",
   "metadata": {},
   "source": [
    "#####  Clean education_level"
   ]
  },
  {
   "cell_type": "code",
   "execution_count": 21,
   "id": "c52d89f0",
   "metadata": {},
   "outputs": [],
   "source": [
    "df['education_level'] = df['education_level'].str.strip().str.title()\n",
    "\n",
    "edu_map = {\n",
    "    'Bchelor': 'Bachelor',\n",
    "    \"Master's\": 'Master',\n",
    "    'Hs': 'High School'\n",
    "}\n",
    "df['education_level'] = df['education_level'].replace(edu_map)"
   ]
  },
  {
   "cell_type": "markdown",
   "id": "ba15b6a3",
   "metadata": {},
   "source": [
    "##### Handle Missing Values"
   ]
  },
  {
   "cell_type": "markdown",
   "id": "d50e6ca8",
   "metadata": {},
   "source": [
    " Drop rows with both critical values missing:"
   ]
  },
  {
   "cell_type": "code",
   "execution_count": 22,
   "id": "9b7697a3",
   "metadata": {},
   "outputs": [],
   "source": [
    "df.dropna(subset=['performance_score', 'performance_category'], inplace=True)"
   ]
  },
  {
   "cell_type": "markdown",
   "id": "eb818464",
   "metadata": {},
   "source": [
    "Fill missing performance_category based on score logic:"
   ]
  },
  {
   "cell_type": "code",
   "execution_count": 23,
   "id": "9a453ab4",
   "metadata": {},
   "outputs": [],
   "source": [
    "def categorize(score):\n",
    "    if score <= 2:\n",
    "        return 'Poor'\n",
    "    elif score <= 4:\n",
    "        return 'Average'\n",
    "    elif score <= 6:\n",
    "        return 'Good'\n",
    "    elif score <= 8:\n",
    "        return 'Very Good'\n",
    "    else:\n",
    "        return 'Excellent'\n",
    "\n",
    "df['performance_category'] = df['performance_category'].fillna(\n",
    "    df['performance_score'].apply(categorize)\n",
    ")"
   ]
  },
  {
   "cell_type": "markdown",
   "id": "6816dbd2",
   "metadata": {},
   "source": [
    "### Check for Ckeaned Data"
   ]
  },
  {
   "cell_type": "code",
   "execution_count": null,
   "id": "888df19d",
   "metadata": {},
   "outputs": [],
   "source": [
    "df.info()"
   ]
  },
  {
   "cell_type": "markdown",
   "id": "b0e28bc2",
   "metadata": {},
   "source": []
  }
 ],
 "metadata": {
  "kernelspec": {
   "display_name": ".venv",
   "language": "python",
   "name": "python3"
  },
  "language_info": {
   "codemirror_mode": {
    "name": "ipython",
    "version": 3
   },
   "file_extension": ".py",
   "mimetype": "text/x-python",
   "name": "python",
   "nbconvert_exporter": "python",
   "pygments_lexer": "ipython3",
   "version": "3.13.5"
  }
 },
 "nbformat": 4,
 "nbformat_minor": 5
}
