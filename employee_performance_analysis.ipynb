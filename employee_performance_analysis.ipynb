{
 "cells": [
  {
   "cell_type": "markdown",
   "id": "e54baeda",
   "metadata": {},
   "source": [
    "# 📊 Employee Performance Analysis Report\n",
    "- Prepared by: PolyTech [Capilitan, Niones, Raquem, Victorio, Villarta]\n",
    "- Role: Junior Data Analyst  \n",
    "- Objective: To uncover insights in employee performance using real-world HR data.\n",
    "- Date: July 2025\n",
    "\n",
    "This report explores how age, experience, education, and department \n",
    "relate to employee performance.\n",
    "Findings will guide HR in training, hiring, and promotion decisions.\n"
   ]
  },
  {
   "cell_type": "markdown",
   "id": "ba576530",
   "metadata": {},
   "source": [
    "## About Dataset\n",
    "\n",
    "- This dataset provides an overview of employee performance and is tailored for machine learning tasks such as clustering and classification. It contains essential attributes including age, total professional experience, educational attainment, department, and a numerical performance score. A derived target column classifies overall performance into five categories: Poor, Average, Good, Very Good, and Excellent. This dataset is well-suited for evaluating models in clustering, predictive analytics, and performance-based insights.\n",
    "- Column Descriptions:\n",
    "    - age: The employee’s age (ranging from 20 to 60 years).\n",
    "    - years_experience: Total number of years in professional work (1 to 40 years).\n",
    "    - education_level: Highest education achieved (High School, Bachelor, Master, PhD).\n",
    "    - group_department: Department or functional group of the employee (Sales, Tech, HR, Finance).\n",
    "    - performance_score: A numeric score representing the employee’s performance, on a scale from 1 to 10.\n",
    "    - performance_category: A categorical label for performance classification (Poor, Average, Good, Very Good, Excellent)."
   ]
  },
  {
   "cell_type": "markdown",
   "id": "da042641",
   "metadata": {},
   "source": [
    "## Import Libraries"
   ]
  },
  {
   "cell_type": "code",
   "execution_count": 136,
   "id": "255e1e87",
   "metadata": {},
   "outputs": [],
   "source": [
    "import numpy as np\n",
    "import pandas as pd\n",
    "import matplotlib.pyplot as plt"
   ]
  },
  {
   "cell_type": "markdown",
   "id": "469916e3",
   "metadata": {},
   "source": [
    "## Data Loading & Initial Exploration\n"
   ]
  },
  {
   "cell_type": "code",
   "execution_count": 137,
   "id": "e321be34",
   "metadata": {},
   "outputs": [
    {
     "data": {
      "text/html": [
       "<div>\n",
       "<style scoped>\n",
       "    .dataframe tbody tr th:only-of-type {\n",
       "        vertical-align: middle;\n",
       "    }\n",
       "\n",
       "    .dataframe tbody tr th {\n",
       "        vertical-align: top;\n",
       "    }\n",
       "\n",
       "    .dataframe thead th {\n",
       "        text-align: right;\n",
       "    }\n",
       "</style>\n",
       "<table border=\"1\" class=\"dataframe\">\n",
       "  <thead>\n",
       "    <tr style=\"text-align: right;\">\n",
       "      <th></th>\n",
       "      <th>age</th>\n",
       "      <th>years_experience</th>\n",
       "      <th>education_level</th>\n",
       "      <th>group_department</th>\n",
       "      <th>performancescore</th>\n",
       "      <th>performance_category</th>\n",
       "    </tr>\n",
       "  </thead>\n",
       "  <tbody>\n",
       "    <tr>\n",
       "      <th>0</th>\n",
       "      <td>58</td>\n",
       "      <td>23</td>\n",
       "      <td>High School</td>\n",
       "      <td>Finance</td>\n",
       "      <td>10.0</td>\n",
       "      <td>Excellent</td>\n",
       "    </tr>\n",
       "    <tr>\n",
       "      <th>1</th>\n",
       "      <td>48</td>\n",
       "      <td>39</td>\n",
       "      <td>Bchelor</td>\n",
       "      <td>HR</td>\n",
       "      <td>NaN</td>\n",
       "      <td>NaN</td>\n",
       "    </tr>\n",
       "    <tr>\n",
       "      <th>2</th>\n",
       "      <td>34</td>\n",
       "      <td>15</td>\n",
       "      <td>High School</td>\n",
       "      <td>HR</td>\n",
       "      <td>5.0</td>\n",
       "      <td>NaN</td>\n",
       "    </tr>\n",
       "    <tr>\n",
       "      <th>3</th>\n",
       "      <td>27</td>\n",
       "      <td>29</td>\n",
       "      <td>PhD</td>\n",
       "      <td>HR</td>\n",
       "      <td>4.0</td>\n",
       "      <td>Average</td>\n",
       "    </tr>\n",
       "    <tr>\n",
       "      <th>4</th>\n",
       "      <td>40</td>\n",
       "      <td>36</td>\n",
       "      <td>PhD</td>\n",
       "      <td>Finance</td>\n",
       "      <td>2.0</td>\n",
       "      <td>Poor</td>\n",
       "    </tr>\n",
       "  </tbody>\n",
       "</table>\n",
       "</div>"
      ],
      "text/plain": [
       "   age  years_experience education_level group_department  performancescore  \\\n",
       "0   58                23     High School          Finance              10.0   \n",
       "1   48                39         Bchelor               HR               NaN   \n",
       "2   34                15     High School               HR               5.0   \n",
       "3   27                29             PhD               HR               4.0   \n",
       "4   40                36             PhD          Finance               2.0   \n",
       "\n",
       "  performance_category  \n",
       "0            Excellent  \n",
       "1                  NaN  \n",
       "2                  NaN  \n",
       "3              Average  \n",
       "4                 Poor  "
      ]
     },
     "execution_count": 137,
     "metadata": {},
     "output_type": "execute_result"
    }
   ],
   "source": [
    "df = pd.read_csv('employee_performance.csv')\n",
    "df.head()"
   ]
  },
  {
   "cell_type": "markdown",
   "id": "19689ada",
   "metadata": {},
   "source": [
    "## Cleaning Dataset"
   ]
  },
  {
   "cell_type": "code",
   "execution_count": 138,
   "id": "dc4f6fef",
   "metadata": {},
   "outputs": [
    {
     "name": "stdout",
     "output_type": "stream",
     "text": [
      "<class 'pandas.core.frame.DataFrame'>\n",
      "RangeIndex: 791 entries, 0 to 790\n",
      "Data columns (total 6 columns):\n",
      " #   Column                Non-Null Count  Dtype  \n",
      "---  ------                --------------  -----  \n",
      " 0   age                   791 non-null    int64  \n",
      " 1   years_experience      791 non-null    int64  \n",
      " 2   education_level       791 non-null    object \n",
      " 3   group_department      791 non-null    object \n",
      " 4   performancescore      790 non-null    float64\n",
      " 5   performance_category  789 non-null    object \n",
      "dtypes: float64(1), int64(2), object(3)\n",
      "memory usage: 37.2+ KB\n"
     ]
    }
   ],
   "source": [
    "df.info()"
   ]
  },
  {
   "cell_type": "markdown",
   "id": "129d3d08",
   "metadata": {},
   "source": [
    "#### Check Inconsistent Values"
   ]
  },
  {
   "cell_type": "code",
   "execution_count": 139,
   "id": "32b76e39",
   "metadata": {},
   "outputs": [
    {
     "data": {
      "text/plain": [
       "array(['High School', 'Bchelor', 'PhD', \"Master's\", 'Master', 'Hs',\n",
       "       'Bachelor'], dtype=object)"
      ]
     },
     "execution_count": 139,
     "metadata": {},
     "output_type": "execute_result"
    }
   ],
   "source": [
    "df['education_level'].unique()"
   ]
  },
  {
   "cell_type": "code",
   "execution_count": 140,
   "id": "483175ef",
   "metadata": {},
   "outputs": [
    {
     "data": {
      "text/plain": [
       "array(['Finance', 'HR', 'Tech', 'Sales'], dtype=object)"
      ]
     },
     "execution_count": 140,
     "metadata": {},
     "output_type": "execute_result"
    }
   ],
   "source": [
    "df['group_department'].unique()"
   ]
  },
  {
   "cell_type": "markdown",
   "id": "57576567",
   "metadata": {},
   "source": [
    "#### Observed Issues in the Dataset\n",
    "\n",
    "After reviewing the initial dataset structure and unique values, we identified the following issues:\n",
    "\n",
    "---\n",
    "\n",
    "##### 1. Missing Values in Key Columns\n",
    "| Column                | Non-Null Count | Expected | Issue                          |\n",
    "|-----------------------|----------------|----------|--------------------------------|\n",
    "| `performance_score`   | 790            | 791      | 1 missing value                |\n",
    "| `performance_category`| 789            | 791      | 2 missing value                |\n",
    "\n",
    "- These columns are critical for performance analysis and cannot be left null.\n",
    "\n",
    "---\n",
    "\n",
    "##### 2. Inconsistent `education_level` Values\n",
    "\n",
    "| Raw Value   | Issue Description                      |\n",
    "|-------------|----------------------------------------|\n",
    "| `Bchelor`   | Typo of \"Bachelor\"                     |\n",
    "| `\"Master's\"`| Contains apostrophe, non-standard      |\n",
    "| `Hs`        | Abbreviation for \"High School\"         |\n",
    "| Mixed casing| Some entries are not properly capitalized |\n",
    "\n",
    "```python"
   ]
  },
  {
   "cell_type": "markdown",
   "id": "914d58ce",
   "metadata": {},
   "source": [
    "#### Rename Columns"
   ]
  },
  {
   "cell_type": "code",
   "execution_count": 146,
   "id": "862f5876",
   "metadata": {},
   "outputs": [
    {
     "name": "stdout",
     "output_type": "stream",
     "text": [
      "Index(['age', 'years_experience', 'education_level', 'department',\n",
      "       'performance_score', 'performance_category'],\n",
      "      dtype='object')\n"
     ]
    }
   ],
   "source": [
    "df.rename(columns={\n",
    "    'group_department': 'department',\n",
    "    'performancescore': 'performance_score'\n",
    "}, inplace=True)\n",
    "\n",
    "print(df.columns)"
   ]
  },
  {
   "cell_type": "markdown",
   "id": "8da4669c",
   "metadata": {},
   "source": [
    "#####  Clean education_level"
   ]
  },
  {
   "cell_type": "code",
   "execution_count": 144,
   "id": "c52d89f0",
   "metadata": {},
   "outputs": [
    {
     "name": "stdout",
     "output_type": "stream",
     "text": [
      "['High School' 'Bachelor' 'PhD' \"Master'S\" 'Master']\n"
     ]
    }
   ],
   "source": [
    "df['education_level'] = df['education_level'].str.strip().str.title()\n",
    "\n",
    "edu_map = {\n",
    "    'Bchelor': 'Bachelor',\n",
    "    \"Master's\": 'Master',\n",
    "    'Hs': 'High School',\n",
    "    'Phd': 'PhD'  \n",
    "}\n",
    "df['education_level'] = df['education_level'].replace(edu_map)\n",
    "\n",
    "print(df['education_level'].unique())"
   ]
  },
  {
   "cell_type": "markdown",
   "id": "ba15b6a3",
   "metadata": {},
   "source": [
    "##### Handle Missing Values"
   ]
  },
  {
   "cell_type": "markdown",
   "id": "d50e6ca8",
   "metadata": {},
   "source": [
    " Drop rows with both critical values missing:"
   ]
  },
  {
   "cell_type": "code",
   "execution_count": 147,
   "id": "9b7697a3",
   "metadata": {},
   "outputs": [],
   "source": [
    "df.dropna(subset=['performance_score', 'performance_category'], how='all', inplace=True)"
   ]
  },
  {
   "cell_type": "markdown",
   "id": "eb818464",
   "metadata": {},
   "source": [
    "Fill missing performance_category based on score logic:"
   ]
  },
  {
   "cell_type": "code",
   "execution_count": 148,
   "id": "9a453ab4",
   "metadata": {},
   "outputs": [],
   "source": [
    "def categorize(score):\n",
    "    if score <= 2:\n",
    "        return 'Poor'\n",
    "    elif score <= 4:\n",
    "        return 'Average'\n",
    "    elif score <= 6:\n",
    "        return 'Good'\n",
    "    elif score <= 8:\n",
    "        return 'Very Good'\n",
    "    else:\n",
    "        return 'Excellent'\n",
    "\n",
    "df['performance_category'] = df['performance_category'].fillna(\n",
    "    df['performance_score'].apply(categorize)\n",
    ")"
   ]
  },
  {
   "cell_type": "markdown",
   "id": "6816dbd2",
   "metadata": {},
   "source": [
    "### Check for Cleaned Data"
   ]
  },
  {
   "cell_type": "code",
   "execution_count": 149,
   "id": "888df19d",
   "metadata": {},
   "outputs": [
    {
     "name": "stdout",
     "output_type": "stream",
     "text": [
      "<class 'pandas.core.frame.DataFrame'>\n",
      "Index: 790 entries, 0 to 790\n",
      "Data columns (total 6 columns):\n",
      " #   Column                Non-Null Count  Dtype  \n",
      "---  ------                --------------  -----  \n",
      " 0   age                   790 non-null    int64  \n",
      " 1   years_experience      790 non-null    int64  \n",
      " 2   education_level       790 non-null    object \n",
      " 3   department            790 non-null    object \n",
      " 4   performance_score     790 non-null    float64\n",
      " 5   performance_category  790 non-null    object \n",
      "dtypes: float64(1), int64(2), object(3)\n",
      "memory usage: 43.2+ KB\n"
     ]
    }
   ],
   "source": [
    "df.info()"
   ]
  },
  {
   "cell_type": "markdown",
   "id": "a30cc3fc",
   "metadata": {},
   "source": [
    "## Export the cleaned dataset to a CSV file for further analysis or sharing:"
   ]
  },
  {
   "cell_type": "code",
   "execution_count": 150,
   "id": "46bf0f56",
   "metadata": {},
   "outputs": [],
   "source": [
    "df.to_csv('cleaned_employee_performance.csv', index=False)"
   ]
  },
  {
   "cell_type": "markdown",
   "id": "521a0e15",
   "metadata": {},
   "source": [
    "## Add Columns for Data Visualizations"
   ]
  },
  {
   "cell_type": "markdown",
   "id": "9065a586",
   "metadata": {},
   "source": [
    "#### Read the cleaned dataset"
   ]
  },
  {
   "cell_type": "code",
   "execution_count": 151,
   "id": "3c1de61d",
   "metadata": {},
   "outputs": [
    {
     "data": {
      "text/html": [
       "<div>\n",
       "<style scoped>\n",
       "    .dataframe tbody tr th:only-of-type {\n",
       "        vertical-align: middle;\n",
       "    }\n",
       "\n",
       "    .dataframe tbody tr th {\n",
       "        vertical-align: top;\n",
       "    }\n",
       "\n",
       "    .dataframe thead th {\n",
       "        text-align: right;\n",
       "    }\n",
       "</style>\n",
       "<table border=\"1\" class=\"dataframe\">\n",
       "  <thead>\n",
       "    <tr style=\"text-align: right;\">\n",
       "      <th></th>\n",
       "      <th>age</th>\n",
       "      <th>years_experience</th>\n",
       "      <th>education_level</th>\n",
       "      <th>department</th>\n",
       "      <th>performance_score</th>\n",
       "      <th>performance_category</th>\n",
       "    </tr>\n",
       "  </thead>\n",
       "  <tbody>\n",
       "    <tr>\n",
       "      <th>0</th>\n",
       "      <td>58</td>\n",
       "      <td>23</td>\n",
       "      <td>High School</td>\n",
       "      <td>Finance</td>\n",
       "      <td>10.0</td>\n",
       "      <td>Excellent</td>\n",
       "    </tr>\n",
       "    <tr>\n",
       "      <th>1</th>\n",
       "      <td>34</td>\n",
       "      <td>15</td>\n",
       "      <td>High School</td>\n",
       "      <td>HR</td>\n",
       "      <td>5.0</td>\n",
       "      <td>Good</td>\n",
       "    </tr>\n",
       "    <tr>\n",
       "      <th>2</th>\n",
       "      <td>27</td>\n",
       "      <td>29</td>\n",
       "      <td>PhD</td>\n",
       "      <td>HR</td>\n",
       "      <td>4.0</td>\n",
       "      <td>Average</td>\n",
       "    </tr>\n",
       "    <tr>\n",
       "      <th>3</th>\n",
       "      <td>40</td>\n",
       "      <td>36</td>\n",
       "      <td>PhD</td>\n",
       "      <td>Finance</td>\n",
       "      <td>2.0</td>\n",
       "      <td>Poor</td>\n",
       "    </tr>\n",
       "    <tr>\n",
       "      <th>4</th>\n",
       "      <td>58</td>\n",
       "      <td>13</td>\n",
       "      <td>PhD</td>\n",
       "      <td>Tech</td>\n",
       "      <td>4.0</td>\n",
       "      <td>Average</td>\n",
       "    </tr>\n",
       "  </tbody>\n",
       "</table>\n",
       "</div>"
      ],
      "text/plain": [
       "   age  years_experience education_level department  performance_score  \\\n",
       "0   58                23     High School    Finance               10.0   \n",
       "1   34                15     High School         HR                5.0   \n",
       "2   27                29             PhD         HR                4.0   \n",
       "3   40                36             PhD    Finance                2.0   \n",
       "4   58                13             PhD       Tech                4.0   \n",
       "\n",
       "  performance_category  \n",
       "0            Excellent  \n",
       "1                 Good  \n",
       "2              Average  \n",
       "3                 Poor  \n",
       "4              Average  "
      ]
     },
     "execution_count": 151,
     "metadata": {},
     "output_type": "execute_result"
    }
   ],
   "source": [
    "df = pd.read_csv('cleaned_employee_performance.csv')\n",
    "df.head()"
   ]
  },
  {
   "cell_type": "markdown",
   "id": "b25f4392",
   "metadata": {},
   "source": [
    "### Score per Year"
   ]
  },
  {
   "cell_type": "code",
   "execution_count": 152,
   "id": "5f0c982c",
   "metadata": {},
   "outputs": [],
   "source": [
    "df['score_per_year'] = df['performance_score'] / df['years_experience']"
   ]
  },
  {
   "cell_type": "markdown",
   "id": "aeb22ef6",
   "metadata": {},
   "source": [
    "### Education Rank"
   ]
  },
  {
   "cell_type": "code",
   "execution_count": 153,
   "id": "3a33d476",
   "metadata": {},
   "outputs": [],
   "source": [
    "df['education_rank'] = df['education_level'].map({\n",
    "    'High School': 1, 'Bachelor': 2, 'Master': 3, 'PhD': 4\n",
    "})"
   ]
  },
  {
   "cell_type": "markdown",
   "id": "bd506508",
   "metadata": {},
   "source": [
    "### Performance Level"
   ]
  },
  {
   "cell_type": "code",
   "execution_count": null,
   "id": "f627a9ac",
   "metadata": {},
   "outputs": [],
   "source": [
    "df['performance_level'] = df['performance_category'].map({\n",
    "    'Poor': 'Low', 'Average': 'Low',\n",
    "    'Good': 'Medium', 'Very Good': 'High', 'Excellent': 'High'\n",
    "})"
   ]
  },
  {
   "cell_type": "markdown",
   "id": "490e06f6",
   "metadata": {},
   "source": [
    "### Age Group"
   ]
  },
  {
   "cell_type": "code",
   "execution_count": 155,
   "id": "66abad77",
   "metadata": {},
   "outputs": [],
   "source": [
    "df['age_group'] = pd.cut(df['age'], bins=[0, 29, 45, 100],\n",
    "                         labels=['Young', 'Mid-Career', 'Senior'])"
   ]
  },
  {
   "cell_type": "markdown",
   "id": "a9d30761",
   "metadata": {},
   "source": [
    "### Experience Group"
   ]
  },
  {
   "cell_type": "code",
   "execution_count": 160,
   "id": "4b2355d6",
   "metadata": {},
   "outputs": [],
   "source": [
    "df['experience_band'] = pd.cut(df['years_experience'],\n",
    "                               bins=[0, 5, 10, 20, 40],\n",
    "                               labels=['Entry', 'Junior', 'Mid', 'Senior'])"
   ]
  },
  {
   "cell_type": "markdown",
   "id": "2dcafec0",
   "metadata": {},
   "source": [
    "## Export the updated dataset with new columns:"
   ]
  },
  {
   "cell_type": "code",
   "execution_count": 161,
   "id": "af4af5d1",
   "metadata": {},
   "outputs": [],
   "source": [
    "df.to_csv('final_employee_performance.csv', index=False)"
   ]
  },
  {
   "cell_type": "markdown",
   "id": "5a9cf8e8",
   "metadata": {},
   "source": [
    "## Data Visualizations (Scatter, Bar, Line, Histogram)"
   ]
  },
  {
   "cell_type": "markdown",
   "id": "2d2dd305",
   "metadata": {},
   "source": [
    "#### Read the the manipulated dataset\n"
   ]
  },
  {
   "cell_type": "code",
   "execution_count": 162,
   "id": "6cb5e392",
   "metadata": {},
   "outputs": [
    {
     "data": {
      "text/html": [
       "<div>\n",
       "<style scoped>\n",
       "    .dataframe tbody tr th:only-of-type {\n",
       "        vertical-align: middle;\n",
       "    }\n",
       "\n",
       "    .dataframe tbody tr th {\n",
       "        vertical-align: top;\n",
       "    }\n",
       "\n",
       "    .dataframe thead th {\n",
       "        text-align: right;\n",
       "    }\n",
       "</style>\n",
       "<table border=\"1\" class=\"dataframe\">\n",
       "  <thead>\n",
       "    <tr style=\"text-align: right;\">\n",
       "      <th></th>\n",
       "      <th>age</th>\n",
       "      <th>years_experience</th>\n",
       "      <th>education_level</th>\n",
       "      <th>department</th>\n",
       "      <th>performance_score</th>\n",
       "      <th>performance_category</th>\n",
       "      <th>score_per_year</th>\n",
       "      <th>education_rank</th>\n",
       "      <th>performance_level</th>\n",
       "      <th>age_group</th>\n",
       "      <th>experience_band</th>\n",
       "    </tr>\n",
       "  </thead>\n",
       "  <tbody>\n",
       "    <tr>\n",
       "      <th>0</th>\n",
       "      <td>58</td>\n",
       "      <td>23</td>\n",
       "      <td>High School</td>\n",
       "      <td>Finance</td>\n",
       "      <td>10.0</td>\n",
       "      <td>Excellent</td>\n",
       "      <td>0.434783</td>\n",
       "      <td>1.0</td>\n",
       "      <td>High</td>\n",
       "      <td>Senior</td>\n",
       "      <td>Senior</td>\n",
       "    </tr>\n",
       "    <tr>\n",
       "      <th>1</th>\n",
       "      <td>34</td>\n",
       "      <td>15</td>\n",
       "      <td>High School</td>\n",
       "      <td>HR</td>\n",
       "      <td>5.0</td>\n",
       "      <td>Good</td>\n",
       "      <td>0.333333</td>\n",
       "      <td>1.0</td>\n",
       "      <td>Medium</td>\n",
       "      <td>Mid-Career</td>\n",
       "      <td>Mid</td>\n",
       "    </tr>\n",
       "    <tr>\n",
       "      <th>2</th>\n",
       "      <td>27</td>\n",
       "      <td>29</td>\n",
       "      <td>PhD</td>\n",
       "      <td>HR</td>\n",
       "      <td>4.0</td>\n",
       "      <td>Average</td>\n",
       "      <td>0.137931</td>\n",
       "      <td>4.0</td>\n",
       "      <td>Low</td>\n",
       "      <td>Young</td>\n",
       "      <td>Senior</td>\n",
       "    </tr>\n",
       "    <tr>\n",
       "      <th>3</th>\n",
       "      <td>40</td>\n",
       "      <td>36</td>\n",
       "      <td>PhD</td>\n",
       "      <td>Finance</td>\n",
       "      <td>2.0</td>\n",
       "      <td>Poor</td>\n",
       "      <td>0.055556</td>\n",
       "      <td>4.0</td>\n",
       "      <td>Low</td>\n",
       "      <td>Mid-Career</td>\n",
       "      <td>Senior</td>\n",
       "    </tr>\n",
       "    <tr>\n",
       "      <th>4</th>\n",
       "      <td>58</td>\n",
       "      <td>13</td>\n",
       "      <td>PhD</td>\n",
       "      <td>Tech</td>\n",
       "      <td>4.0</td>\n",
       "      <td>Average</td>\n",
       "      <td>0.307692</td>\n",
       "      <td>4.0</td>\n",
       "      <td>Low</td>\n",
       "      <td>Senior</td>\n",
       "      <td>Mid</td>\n",
       "    </tr>\n",
       "  </tbody>\n",
       "</table>\n",
       "</div>"
      ],
      "text/plain": [
       "   age  years_experience education_level department  performance_score  \\\n",
       "0   58                23     High School    Finance               10.0   \n",
       "1   34                15     High School         HR                5.0   \n",
       "2   27                29             PhD         HR                4.0   \n",
       "3   40                36             PhD    Finance                2.0   \n",
       "4   58                13             PhD       Tech                4.0   \n",
       "\n",
       "  performance_category  score_per_year  education_rank performance_level  \\\n",
       "0            Excellent        0.434783             1.0              High   \n",
       "1                 Good        0.333333             1.0            Medium   \n",
       "2              Average        0.137931             4.0               Low   \n",
       "3                 Poor        0.055556             4.0               Low   \n",
       "4              Average        0.307692             4.0               Low   \n",
       "\n",
       "    age_group experience_band  \n",
       "0      Senior          Senior  \n",
       "1  Mid-Career             Mid  \n",
       "2       Young          Senior  \n",
       "3  Mid-Career          Senior  \n",
       "4      Senior             Mid  "
      ]
     },
     "execution_count": 162,
     "metadata": {},
     "output_type": "execute_result"
    }
   ],
   "source": [
    "df = pd.read_csv('final_employee_performance.csv')\n",
    "df.head()"
   ]
  },
  {
   "cell_type": "markdown",
   "id": "e6bea18b",
   "metadata": {},
   "source": [
    "### 1. Bar Chart: Count of Performance Categories"
   ]
  },
  {
   "cell_type": "code",
   "execution_count": 182,
   "id": "446333b8",
   "metadata": {},
   "outputs": [
    {
     "data": {
      "image/png": "[encoded data removed]",
      "text/plain": [
       "<Figure size 640x480 with 1 Axes>"
      ]
     },
     "metadata": {},
     "output_type": "display_data"
    },
    {
     "name": "stdout",
     "output_type": "stream",
     "text": [
      "Performance Category Counts:\n",
      "performance_category\n",
      "Poor         248\n",
      "Good         156\n",
      "Average      149\n",
      "Very Good    149\n",
      "Excellent     88\n",
      "Name: count, dtype: int64\n"
     ]
    }
   ],
   "source": [
    "df['performance_category'].value_counts().plot(kind='bar', color='skyblue')\n",
    "plt.title('Count of Employees per Performance Category')\n",
    "plt.xlabel('Performance Category')\n",
    "plt.ylabel('Number of Employees')\n",
    "plt.tight_layout()\n",
    "plt.show()\n",
    "\n",
    "print(\"Performance Category Counts:\")\n",
    "print(df['performance_category'].value_counts())"
   ]
  },
  {
   "cell_type": "markdown",
   "id": "a6927afa",
   "metadata": {},
   "source": [
    "### 2. Bar Chart: Average Performance by Education Level"
   ]
  },
  {
   "cell_type": "code",
   "execution_count": 181,
   "id": "344f2d44",
   "metadata": {},
   "outputs": [
    {
     "data": {
      "image/png": "[encoded data removed]",
      "text/plain": [
       "<Figure size 640x480 with 1 Axes>"
      ]
     },
     "metadata": {},
     "output_type": "display_data"
    },
    {
     "name": "stdout",
     "output_type": "stream",
     "text": [
      "\n",
      "Average Performance Score by Education Level:\n",
      "education_level\n",
      "Bachelor       5.756219\n",
      "High School    5.490566\n",
      "Master         5.481675\n",
      "Master'S       3.000000\n",
      "PhD            5.243243\n",
      "Name: performance_score, dtype: float64\n"
     ]
    }
   ],
   "source": [
    "edu_avg = df.groupby('education_level')['performance_score'].mean()\n",
    "\n",
    "edu_avg.plot(kind='bar', color='orange')\n",
    "plt.title('Average Score per Education Level')\n",
    "plt.xlabel('Education Level')\n",
    "plt.ylabel('Average Score')\n",
    "plt.tight_layout()\n",
    "plt.show()\n",
    "\n",
    "print(\"\\nAverage Performance Score by Education Level:\")\n",
    "print(edu_avg)"
   ]
  },
  {
   "cell_type": "markdown",
   "id": "721b438d",
   "metadata": {},
   "source": [
    "### 3. Histogram: Distribution of Performance Scores"
   ]
  },
  {
   "cell_type": "code",
   "execution_count": 178,
   "id": "e502e9ef",
   "metadata": {},
   "outputs": [
    {
     "data": {
      "image/png": "[encoded data removed]",
      "text/plain": [
       "<Figure size 640x480 with 1 Axes>"
      ]
     },
     "metadata": {},
     "output_type": "display_data"
    },
    {
     "name": "stdout",
     "output_type": "stream",
     "text": [
      "\n",
      "Performance Score Stats:\n",
      "Min: 1.0\n",
      "Max: 10.0\n",
      "Mean: 5.49\n"
     ]
    }
   ],
   "source": [
    "plt.hist(df['performance_score'], bins=10, color='steelblue', edgecolor='black')\n",
    "plt.title('Distribution of Performance Scores')\n",
    "plt.xlabel('Score')\n",
    "plt.ylabel('Number of Employees')\n",
    "plt.tight_layout()\n",
    "plt.show()\n",
    "\n",
    "print(\"\\nPerformance Score Stats:\")\n",
    "print(\"Min:\", df['performance_score'].min())\n",
    "print(\"Max:\", df['performance_score'].max())\n",
    "print(\"Mean:\", round(df['performance_score'].mean(), 2))"
   ]
  },
  {
   "cell_type": "markdown",
   "id": "1d6c5728",
   "metadata": {},
   "source": [
    "### 4. Scatter Plot: Score vs Years of Experience"
   ]
  },
  {
   "cell_type": "code",
   "execution_count": 183,
   "id": "2d49db25",
   "metadata": {},
   "outputs": [
    {
     "data": {
      "image/png": "[encoded data removed]",
      "text/plain": [
       "<Figure size 640x480 with 1 Axes>"
      ]
     },
     "metadata": {},
     "output_type": "display_data"
    }
   ],
   "source": [
    "plt.scatter(df['years_experience'], df['performance_score'], color='purple')\n",
    "plt.title('Score vs Years of Experience')\n",
    "plt.xlabel('Years of Experience')\n",
    "plt.ylabel('Performance Score')\n",
    "plt.tight_layout()\n",
    "plt.show()"
   ]
  },
  {
   "cell_type": "markdown",
   "id": "2b35c457",
   "metadata": {},
   "source": [
    "### 5. Bar Chart: Count of Employees per Age Group"
   ]
  },
  {
   "cell_type": "code",
   "execution_count": 184,
   "id": "7e2746ed",
   "metadata": {},
   "outputs": [
    {
     "data": {
      "image/png": "[encoded data removed]",
      "text/plain": [
       "<Figure size 640x480 with 1 Axes>"
      ]
     },
     "metadata": {},
     "output_type": "display_data"
    },
    {
     "name": "stdout",
     "output_type": "stream",
     "text": [
      "\n",
      "Age Group Counts:\n",
      "age_group\n",
      "Mid-Career    303\n",
      "Senior        286\n",
      "Young         201\n",
      "Name: count, dtype: int64\n"
     ]
    }
   ],
   "source": [
    "df['age_group'].value_counts().plot(kind='bar', color='lightgreen')\n",
    "plt.title('Employees per Age Group')\n",
    "plt.xlabel('Age Group')\n",
    "plt.ylabel('Number of Employees')\n",
    "plt.tight_layout()\n",
    "plt.show()\n",
    "\n",
    "print(\"\\nAge Group Counts:\")\n",
    "print(df['age_group'].value_counts())"
   ]
  },
  {
   "cell_type": "markdown",
   "id": "fd7fba8e",
   "metadata": {},
   "source": [
    "### 6. Line Plot: Average Score per Year by Experience Band"
   ]
  },
  {
   "cell_type": "code",
   "execution_count": 188,
   "id": "dcb45946",
   "metadata": {},
   "outputs": [
    {
     "data": {
      "image/png": "[encoded data removed]",
      "text/plain": [
       "<Figure size 640x480 with 1 Axes>"
      ]
     },
     "metadata": {},
     "output_type": "display_data"
    },
    {
     "name": "stdout",
     "output_type": "stream",
     "text": [
      "\n",
      "Average Score per Year by Experience Band:\n",
      "experience_band\n",
      "Entry     2.583956\n",
      "Junior    0.731181\n",
      "Mid       0.355726\n",
      "Senior    0.187719\n",
      "Name: score_per_year, dtype: float64\n"
     ]
    }
   ],
   "source": [
    "exp_avg = df.groupby('experience_band')['score_per_year'].mean()\n",
    "\n",
    "exp_avg.plot(kind='line', marker='o', color='salmon')\n",
    "plt.title('Avg. Score per Year by Experience Band')\n",
    "plt.xlabel('Experience Band')\n",
    "plt.ylabel('Score per Year')\n",
    "plt.grid(True)\n",
    "plt.tight_layout()\n",
    "plt.show()\n",
    "\n",
    "print(\"\\nAverage Score per Year by Experience Band:\")\n",
    "print(exp_avg)"
   ]
  },
  {
   "cell_type": "markdown",
   "id": "90a22a96",
   "metadata": {},
   "source": [
    "### 7. Bar Graph  Insight A: Department with Most High Performers"
   ]
  },
  {
   "cell_type": "code",
   "execution_count": 189,
   "id": "a1534d66",
   "metadata": {},
   "outputs": [
    {
     "data": {
      "image/png": "[encoded data removed]",
      "text/plain": [
       "<Figure size 640x480 with 1 Axes>"
      ]
     },
     "metadata": {},
     "output_type": "display_data"
    },
    {
     "name": "stdout",
     "output_type": "stream",
     "text": [
      "\n",
      "Average Score per Year by Experience Band:\n",
      "experience_band\n",
      "Entry     2.583956\n",
      "Junior    0.731181\n",
      "Mid       0.355726\n",
      "Senior    0.187719\n",
      "Name: score_per_year, dtype: float64\n"
     ]
    }
   ],
   "source": [
    "high_performers = df[df['performance_category'].isin(['Excellent', 'Very Good'])]\n",
    "high_counts = high_performers['department'].value_counts()\n",
    "\n",
    "high_counts.plot(kind='bar', color='gold')\n",
    "plt.title('High Performers per Department')\n",
    "plt.xlabel('Department')\n",
    "plt.ylabel('Number of High Performers')\n",
    "plt.tight_layout()\n",
    "plt.show()\n",
    "\n",
    "print(\"\\nAverage Score per Year by Experience Band:\")\n",
    "print(exp_avg)"
   ]
  }
 ],
 "metadata": {
  "kernelspec": {
   "display_name": ".venv",
   "language": "python",
   "name": "python3"
  },
  "language_info": {
   "codemirror_mode": {
    "name": "ipython",
    "version": 3
   },
   "file_extension": ".py",
   "mimetype": "text/x-python",
   "name": "python",
   "nbconvert_exporter": "python",
   "pygments_lexer": "ipython3",
   "version": "3.13.2"
  }
 },
 "nbformat": 4,
 "nbformat_minor": 5
}
